{
 "cells": [
  {
   "cell_type": "code",
   "execution_count": 2,
   "id": "112754b9",
   "metadata": {},
   "outputs": [
    {
     "data": {
      "text/plain": [
       "False"
      ]
     },
     "execution_count": 2,
     "metadata": {},
     "output_type": "execute_result"
    }
   ],
   "source": [
    "from dotenv import load_dotenv\n",
    "load_dotenv(dotenv_path=\".env\")\n",
    "\n"
   ]
  },
  {
   "cell_type": "code",
   "execution_count": null,
   "id": "454b8303",
   "metadata": {},
   "outputs": [],
   "source": []
  },
  {
   "cell_type": "code",
   "execution_count": 3,
   "id": "773ae5f3",
   "metadata": {},
   "outputs": [],
   "source": [
    "# Import relevant functionality\n",
    "\n",
    "from langchain_community.tools.tavily_search import TavilySearchResults\n",
    "from langchain_openai import ChatOpenAI\n",
    "from langchain_core.messages import HumanMessage\n",
    "from langgraph.checkpoint.memory import MemorySaver\n",
    "from langgraph.prebuilt import create_react_agent\n",
    "\n",
    "# Create the agent\n",
    "memory = MemorySaver()\n",
    "model = ChatOpenAI(temperature=0)\n",
    "search = TavilySearchResults(max_results=2)\n",
    "tools = [search]\n",
    "agent_executor = create_react_agent(model, tools, checkpointer=memory)"
   ]
  },
  {
   "cell_type": "code",
   "execution_count": 4,
   "id": "186aa426",
   "metadata": {},
   "outputs": [
    {
     "name": "stdout",
     "output_type": "stream",
     "text": [
      "================================\u001b[1m Human Message \u001b[0m=================================\n",
      "\n",
      "hi im alex! and i live in almaty\n",
      "==================================\u001b[1m Ai Message \u001b[0m==================================\n",
      "\n",
      "Hello Alex! How can I assist you today?\n"
     ]
    }
   ],
   "source": [
    "# Use the agent\n",
    "config = {\"configurable\": {\"thread_id\": \"abc123\"}}\n",
    "for step in agent_executor.stream(\n",
    "    {\"messages\": [HumanMessage(content=\"hi im alex! and i live in almaty\")]},\n",
    "    config,\n",
    "    stream_mode=\"values\",\n",
    "):\n",
    "    step[\"messages\"][-1].pretty_print()"
   ]
  },
  {
   "cell_type": "code",
   "execution_count": 5,
   "id": "8276c0e6",
   "metadata": {},
   "outputs": [
    {
     "name": "stdout",
     "output_type": "stream",
     "text": [
      "[{'title': 'Wednesday, June 4, 2025. San Francisco, CA - Weather Forecast', 'url': 'https://weathershogun.com/weather/usa/ca/san-francisco/480/june/2025-06-04', 'content': 'San Francisco, California Weather: Wednesday, June 4, 2025. Cloudy weather, overcast skies with clouds. Day 66°. Night 55°. Precipitation 20 %.', 'score': 0.94989765}, {'title': 'Weather in San Francisco in April 2025 (California)', 'url': 'https://world-weather.info/forecast/usa/san_francisco/april-2025/', 'content': '*   [6 +63°+52°](https://world-weather.info/forecast/usa/san_francisco/14days/#2025-04-06)\\n*   [7 +59°+52°](https://world-weather.info/forecast/usa/san_francisco/14days/#2025-04-07)\\n*   [8 +63°+50°](https://world-weather.info/forecast/usa/san_francisco/14days/#2025-04-08)\\n*   [9 +66°+50°](https://world-weather.info/forecast/usa/san_francisco/14days/#2025-04-09)\\n*   [10 +68°+52°](https://world-weather.info/forecast/usa/san_francisco/14days/#2025-04-10) [...] +63°+54° [...] *   [16 +61°+52°](https://world-weather.info/forecast/usa/san_francisco/14days/#2025-04-16)\\n*   17\\n    \\n    +61°+52°\\n    \\n*   18\\n    \\n    +63°+54°\\n    \\n*   19\\n    \\n    +63°+54°\\n    \\n*   20\\n    \\n    +63°+54°\\n    \\n*   21\\n    \\n    +64°+54°\\n    \\n*   22\\n    \\n    +63°+54°\\n    \\n*   23\\n    \\n    +63°+54°\\n    \\n*   24\\n    \\n    +63°+54°\\n    \\n*   25\\n    \\n    +63°+54°\\n    \\n*   26\\n    \\n    +64°+54°\\n    \\n*   27\\n    \\n    +64°+54°\\n    \\n*   28\\n    \\n    +64°+54°\\n    \\n*   29\\n    \\n    +63°+54°\\n    \\n*   30', 'score': 0.92392945}]\n"
     ]
    }
   ],
   "source": [
    "from langchain_community.tools.tavily_search import TavilySearchResults\n",
    "\n",
    "search = TavilySearchResults(max_results=2)\n",
    "search_results = search.invoke(\"what is the weather in SF\")\n",
    "print(search_results)\n",
    "# If we want, we can create other tools.\n",
    "# Once we have all the tools we want, we can put them in a list that we will reference later.\n",
    "tools = [search]"
   ]
  },
  {
   "cell_type": "code",
   "execution_count": 6,
   "id": "4979be42",
   "metadata": {},
   "outputs": [],
   "source": [
    "model_with_tools = model.bind_tools(tools)"
   ]
  },
  {
   "cell_type": "code",
   "execution_count": 7,
   "id": "599bc970",
   "metadata": {},
   "outputs": [],
   "source": [
    "msg = HumanMessage(content=\"hi\")\n",
    "\n",
    "response = model_with_tools.invoke([HumanMessage(content=\"hi\")])"
   ]
  },
  {
   "cell_type": "code",
   "execution_count": 8,
   "id": "64173ed0",
   "metadata": {},
   "outputs": [
    {
     "data": {
      "text/plain": [
       "('Hello! How can I assist you today?', [])"
      ]
     },
     "execution_count": 8,
     "metadata": {},
     "output_type": "execute_result"
    }
   ],
   "source": [
    "response.content, response.tool_calls"
   ]
  },
  {
   "cell_type": "code",
   "execution_count": 9,
   "id": "ef9a8e98",
   "metadata": {},
   "outputs": [
    {
     "data": {
      "text/plain": [
       "('',\n",
       " [{'name': 'tavily_search_results_json',\n",
       "   'args': {'query': 'weather in Almaty'},\n",
       "   'id': 'call_KSIly5r58IWvpihFxADsPXYm',\n",
       "   'type': 'tool_call'}])"
      ]
     },
     "execution_count": 9,
     "metadata": {},
     "output_type": "execute_result"
    }
   ],
   "source": [
    "msg = HumanMessage(content=\"whats the weather in almaty\")\n",
    "response = model_with_tools.invoke([msg])\n",
    "\n",
    "response.content, response.tool_calls"
   ]
  },
  {
   "cell_type": "code",
   "execution_count": 10,
   "id": "4cd66f58",
   "metadata": {},
   "outputs": [],
   "source": [
    "from langgraph.prebuilt import create_react_agent\n",
    "\n",
    "agent_executor = create_react_agent(model, tools)"
   ]
  },
  {
   "cell_type": "code",
   "execution_count": null,
   "id": "7f2d297e",
   "metadata": {},
   "outputs": [
    {
     "data": {
      "text/plain": [
       "[HumanMessage(content='hi!', additional_kwargs={}, response_metadata={}, id='a6bbed61-e4c0-437c-ae0b-11359f4990e8'),\n",
       " AIMessage(content='Hello! How can I assist you today?', additional_kwargs={'refusal': None}, response_metadata={'token_usage': {'completion_tokens': 10, 'prompt_tokens': 83, 'total_tokens': 93, 'completion_tokens_details': {'accepted_prediction_tokens': 0, 'audio_tokens': 0, 'reasoning_tokens': 0, 'rejected_prediction_tokens': 0}, 'prompt_tokens_details': {'audio_tokens': 0, 'cached_tokens': 0}}, 'model_name': 'gpt-3.5-turbo-0125', 'system_fingerprint': None, 'id': 'chatcmpl-Bec8Qqtp9WOT9oiYXHehP7RXoguJZ', 'service_tier': 'default', 'finish_reason': 'stop', 'logprobs': None}, id='run--1ba1d3d4-5dc9-432e-b2d8-3e3b753992fc-0', usage_metadata={'input_tokens': 83, 'output_tokens': 10, 'total_tokens': 93, 'input_token_details': {'audio': 0, 'cache_read': 0}, 'output_token_details': {'audio': 0, 'reasoning': 0}})]"
      ]
     },
     "execution_count": 11,
     "metadata": {},
     "output_type": "execute_result"
    }
   ],
   "source": [
    "response = agent_executor.invoke({\"messages\": [HumanMessage(content=\"hi!\")]})\n",
    "\n",
    "response[\"messages\"]"
   ]
  },
  {
   "cell_type": "code",
   "execution_count": 13,
   "id": "1990feb5",
   "metadata": {},
   "outputs": [
    {
     "name": "stdout",
     "output_type": "stream",
     "text": [
      "{'messages': [HumanMessage(content='hi!', additional_kwargs={}, response_metadata={}, id='a6bbed61-e4c0-437c-ae0b-11359f4990e8'),\n",
      "              AIMessage(content='Hello! How can I assist you today?', additional_kwargs={'refusal': None}, response_metadata={'token_usage': {'completion_tokens': 10, 'prompt_tokens': 83, 'total_tokens': 93, 'completion_tokens_details': {'accepted_prediction_tokens': 0, 'audio_tokens': 0, 'reasoning_tokens': 0, 'rejected_prediction_tokens': 0}, 'prompt_tokens_details': {'audio_tokens': 0, 'cached_tokens': 0}}, 'model_name': 'gpt-3.5-turbo-0125', 'system_fingerprint': None, 'id': 'chatcmpl-Bec8Qqtp9WOT9oiYXHehP7RXoguJZ', 'service_tier': 'default', 'finish_reason': 'stop', 'logprobs': None}, id='run--1ba1d3d4-5dc9-432e-b2d8-3e3b753992fc-0', usage_metadata={'input_tokens': 83, 'output_tokens': 10, 'total_tokens': 93, 'input_token_details': {'audio': 0, 'cache_read': 0}, 'output_token_details': {'audio': 0, 'reasoning': 0}})]}\n"
     ]
    }
   ],
   "source": [
    "from pprint import pprint\n",
    "pprint(response)"
   ]
  },
  {
   "cell_type": "code",
   "execution_count": 15,
   "id": "d393eae8",
   "metadata": {},
   "outputs": [
    {
     "name": "stdout",
     "output_type": "stream",
     "text": [
      "================================\u001b[1m Human Message \u001b[0m=================================\n",
      "\n",
      "whats the weather in almaty?\n",
      "==================================\u001b[1m Ai Message \u001b[0m==================================\n",
      "Tool Calls:\n",
      "  tavily_search_results_json (call_0IfogFiVxq5Vq1RM5YBDmEh4)\n",
      " Call ID: call_0IfogFiVxq5Vq1RM5YBDmEh4\n",
      "  Args:\n",
      "    query: weather in Almaty\n",
      "=================================\u001b[1m Tool Message \u001b[0m=================================\n",
      "Name: tavily_search_results_json\n",
      "\n",
      "[{\"title\": \"Almaty 30 days weather forecast, Almaty weather forecast | QWeather\", \"url\": \"https://www.qweather.com/en/weather30d/almaty-2F92A.html\", \"content\": \"Almaty. Kazakhstan. 2025-06-04. In the next 30 days, there will be 8 days of rain, 1 day's Temp above 35°, the Max Temp is 36°(06-Jun) and the Min Temp is\", \"score\": 0.914176}, {\"title\": \"Almaty City weather in June 2025 | Weather25.com\", \"url\": \"https://www.weather25.com/asia/kazakhstan/almaty-city?page=month&month=June\", \"content\": \"/16°](https://www.weather25.com/asia/kazakhstan/almaty-city?page=today \\\"Weather in 4 june 2025\\\") | [5 Patchy rain possible 30° /16°](https://www.weather25.com/asia/kazakhstan/almaty-city?page=tomorrow \\\"Weather in 5 june 2025\\\") | [6 Patchy rain possible 33° /19°](https://www.weather25.com/asia/kazakhstan/almaty-city?page=day#date=2025-06-06 \\\"Weather in 6 june 2025\\\") | [7 Patchy rain possible 30° /21°](https://www.weather25.com/asia/kazakhstan/almaty-city?page=day#date=2025-06-07 \\\"Weather in 7 [...] | March | **4°** / -4° | 11 | 12 | 9 | 189 mm | Awful | [Almaty City in March](https://www.weather25.com/asia/kazakhstan/almaty-city?page=month&month=March) |\\n| April | **11°** / 2° | 13 | 16 | 2 | 245 mm | Awful | [Almaty City in April](https://www.weather25.com/asia/kazakhstan/almaty-city?page=month&month=April) |\\n| May | **16°** / 6° | 16 | 15 | 0 | 351 mm | Ok | [Almaty City in May](https://www.weather25.com/asia/kazakhstan/almaty-city?page=month&month=May) | [...] | [1 Patchy rain possible 24° /11°](https://www.weather25.com/asia/kazakhstan/almaty-city?page=past-weather#day=1&month=6 \\\"Weather in 1 june 2025\\\") | [2 Light rain shower 23° /12°](https://www.weather25.com/asia/kazakhstan/almaty-city?page=past-weather#day=2&month=6 \\\"Weather in 2 june 2025\\\") | [3 Patchy light rain with thunder 23° /10°](https://www.weather25.com/asia/kazakhstan/almaty-city?page=past-weather#day=3&month=6 \\\"Weather in 3 june 2025\\\") | [4 Patchy rain possible 28°\", \"score\": 0.88372874}]\n",
      "==================================\u001b[1m Ai Message \u001b[0m==================================\n",
      "\n",
      "The weather in Almaty, Kazakhstan for the next 30 days includes 8 days of rain, with the maximum temperature reaching 36°C on June 6th. For more detailed information, you can visit the [QWeather website](https://www.qweather.com/en/weather30d/almaty-2F92A.html).\n"
     ]
    }
   ],
   "source": [
    "for step in agent_executor.stream(\n",
    "    {\"messages\": [HumanMessage(content=\"whats the weather in almaty?\")]},\n",
    "    stream_mode=\"values\",\n",
    "):\n",
    "    step[\"messages\"][-1].pretty_print()"
   ]
  },
  {
   "cell_type": "code",
   "execution_count": 16,
   "id": "02161bfa",
   "metadata": {},
   "outputs": [
    {
     "name": "stdout",
     "output_type": "stream",
     "text": [
      "The| weather| history| for| April| |202|5| in| San| Francisco|,| California| shows| a| range| of| conditions| including| fog|,| haze|,| dr|izzle|,| light| rain|,| moderate| rain|,| heavy| rain|,| and| more|.| If| you| need| more| specific| and| current| weather| information|,| please| let| me| know|.|"
     ]
    }
   ],
   "source": [
    "for step, metadata in agent_executor.stream(\n",
    "    {\"messages\": [HumanMessage(content=\"whats the weather in sf?\")]},\n",
    "    stream_mode=\"messages\",\n",
    "):\n",
    "    if metadata[\"langgraph_node\"] == \"agent\" and (text := step.text()):\n",
    "        print(text, end=\"|\")"
   ]
  },
  {
   "cell_type": "code",
   "execution_count": 27,
   "id": "27b14482",
   "metadata": {},
   "outputs": [
    {
     "name": "stdout",
     "output_type": "stream",
     "text": [
      "{'agent': {'messages': [AIMessage(content='Hello Alex! How can I assist you today?', additional_kwargs={'refusal': None}, response_metadata={'token_usage': {'completion_tokens': 11, 'prompt_tokens': 84, 'total_tokens': 95, 'completion_tokens_details': {'accepted_prediction_tokens': 0, 'audio_tokens': 0, 'reasoning_tokens': 0, 'rejected_prediction_tokens': 0}, 'prompt_tokens_details': {'audio_tokens': 0, 'cached_tokens': 0}}, 'model_name': 'gpt-3.5-turbo-0125', 'system_fingerprint': None, 'id': 'chatcmpl-BecQAPtiV364U7yu2tX8fUtDTOsj3', 'service_tier': 'default', 'finish_reason': 'stop', 'logprobs': None}, id='run--2e99d4cf-18f8-41b7-b498-c5159e252325-0', usage_metadata={'input_tokens': 84, 'output_tokens': 11, 'total_tokens': 95, 'input_token_details': {'audio': 0, 'cache_read': 0}, 'output_token_details': {'audio': 0, 'reasoning': 0}})]}}\n",
      "-----\n"
     ]
    }
   ],
   "source": [
    "from langgraph.checkpoint.memory import MemorySaver\n",
    "memory = MemorySaver()\n",
    "\n",
    "le_epic_agent_executor = create_react_agent(model, tools, checkpointer=memory)\n",
    "config = {\"configurable\" : {\"thread_id\": \"abc123\"}}\n",
    "\n",
    "\n",
    "for chunk in le_epic_agent_executor.stream(\n",
    "    {\"messages\": [HumanMessage(content=\"hey im alex\")]}, config\n",
    "):\n",
    "    print(chunk)\n",
    "    print(\"-\"*5)"
   ]
  },
  {
   "cell_type": "code",
   "execution_count": null,
   "id": "0c29215c",
   "metadata": {},
   "outputs": [
    {
     "name": "stdout",
     "output_type": "stream",
     "text": [
      "{'agent': {'messages': [AIMessage(content='Your name is Alex. How can I help you, Alex?', additional_kwargs={'refusal': None}, response_metadata={'token_usage': {'completion_tokens': 14, 'prompt_tokens': 107, 'total_tokens': 121, 'completion_tokens_details': {'accepted_prediction_tokens': 0, 'audio_tokens': 0, 'reasoning_tokens': 0, 'rejected_prediction_tokens': 0}, 'prompt_tokens_details': {'audio_tokens': 0, 'cached_tokens': 0}}, 'model_name': 'gpt-3.5-turbo-0125', 'system_fingerprint': None, 'id': 'chatcmpl-BecQCYB5vqX5JWk7HJo4512tc9Q4s', 'service_tier': 'default', 'finish_reason': 'stop', 'logprobs': None}, id='run--e14005bd-5ed7-4f45-a211-579bc8fe61c3-0', usage_metadata={'input_tokens': 107, 'output_tokens': 14, 'total_tokens': 121, 'input_token_details': {'audio': 0, 'cache_read': 0}, 'output_token_details': {'audio': 0, 'reasoning': 0}})]}}\n",
      "----\n"
     ]
    }
   ],
   "source": [
    "for chunk in le_epic_agent_executor.stream(\n",
    "    {\"messages\": [HumanMessage(content=\"whats my name?\")]}, config\n",
    "):\n",
    "    print(chunk)\n",
    "    print(\"----\")"
   ]
  },
  {
   "cell_type": "code",
   "execution_count": 31,
   "id": "bae44d7c",
   "metadata": {},
   "outputs": [
    {
     "name": "stdout",
     "output_type": "stream",
     "text": [
      "{'agent': {'messages': [AIMessage(content=\"I don't have access to personal information like your name. If there's anything else you'd like to know or discuss, feel free to ask!\", additional_kwargs={'refusal': None}, response_metadata={'token_usage': {'completion_tokens': 31, 'prompt_tokens': 86, 'total_tokens': 117, 'completion_tokens_details': {'accepted_prediction_tokens': 0, 'audio_tokens': 0, 'reasoning_tokens': 0, 'rejected_prediction_tokens': 0}, 'prompt_tokens_details': {'audio_tokens': 0, 'cached_tokens': 0}}, 'model_name': 'gpt-3.5-turbo-0125', 'system_fingerprint': None, 'id': 'chatcmpl-BecR4VAHgR6pfMPknukxGGmCkaRpz', 'service_tier': 'default', 'finish_reason': 'stop', 'logprobs': None}, id='run--f0605d6c-4873-498b-8067-d3476134d0fd-0', usage_metadata={'input_tokens': 86, 'output_tokens': 31, 'total_tokens': 117, 'input_token_details': {'audio': 0, 'cache_read': 0}, 'output_token_details': {'audio': 0, 'reasoning': 0}})]}}\n",
      "----\n"
     ]
    }
   ],
   "source": [
    "config = {\"configurable\": {\"thread_id\": \"xyz123\"}}\n",
    "for chunk in le_epic_agent_executor.stream(\n",
    "    {\"messages\": [HumanMessage(content=\"whats my name?\")]}, config\n",
    "):\n",
    "    print(chunk)\n",
    "    print(\"----\")"
   ]
  }
 ],
 "metadata": {
  "kernelspec": {
   "display_name": "lang",
   "language": "python",
   "name": "python3"
  },
  "language_info": {
   "codemirror_mode": {
    "name": "ipython",
    "version": 3
   },
   "file_extension": ".py",
   "mimetype": "text/x-python",
   "name": "python",
   "nbconvert_exporter": "python",
   "pygments_lexer": "ipython3",
   "version": "3.13.2"
  }
 },
 "nbformat": 4,
 "nbformat_minor": 5
}
