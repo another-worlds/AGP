{
 "cells": [
  {
   "cell_type": "code",
   "execution_count": 5,
   "id": "ca332752",
   "metadata": {},
   "outputs": [],
   "source": [
    "import pandas as pd\n",
    "import numpy as np\n",
    "from pydantic import Field, BaseModel\n",
    "from typing import Union"
   ]
  },
  {
   "cell_type": "code",
   "execution_count": 34,
   "id": "d4650216",
   "metadata": {},
   "outputs": [
    {
     "name": "stdout",
     "output_type": "stream",
     "text": [
      "\n",
      "\n",
      "\u001b[1m> Entering new AgentExecutor chain...\u001b[0m\n",
      "\u001b[32;1m\u001b[1;3mWe need to find the zone name corresponding to the zone ID 2726883.\n",
      "Action: SQL Agent\n",
      "Action Input: SELECT pdp_func_zone_code FROM pdp_functional_zones__default_workspacepdp_functional_zones WHERE ID = 2726883\u001b[0m\n",
      "\n",
      "\u001b[1m> Entering new SQL Agent Executor chain...\u001b[0m\n",
      "\u001b[32;1m\u001b[1;3mAction: sql_db_list_tables\n",
      "Action Input: \u001b[0m\u001b[38;5;200m\u001b[1;3mgeometry_columns, pdp_functional_zones__default_workspacepdp_functional_zones, spatial_ref_sys\u001b[0m\u001b[32;1m\u001b[1;3mThe table I need to query is pdp_functional_zones__default_workspacepdp_functional_zones. I should check the schema of this table.\n",
      "Action: sql_db_schema\n",
      "Action Input: pdp_functional_zones__default_workspacepdp_functional_zones\u001b[0m\u001b[33;1m\u001b[1;3m\n",
      "CREATE TABLE pdp_functional_zones__default_workspacepdp_functional_zones (\n",
      "\togc_fid INTEGER, \n",
      "\t\"WKT_GEOMETRY\" VARCHAR, \n",
      "\tid INTEGER, \n",
      "\tarea FLOAT, \n",
      "\tcreation_doc_id INTEGER, \n",
      "\tgp_func_zone_code_id INTEGER, \n",
      "\tpdp_func_zone_code_id INTEGER, \n",
      "\tdeactivation_doc_id INTEGER, \n",
      "\tzone_type_id INTEGER, \n",
      "\tfunc_zone_status_id INTEGER, \n",
      "\tpdp_func_zone_code VARCHAR, \n",
      "\tPRIMARY KEY (ogc_fid)\n",
      ")\n",
      "\n",
      "/*\n",
      "3 rows from pdp_functional_zones__default_workspacepdp_functional_zones table:\n",
      "ogc_fid\tWKT_GEOMETRY\tid\tarea\tcreation_doc_id\tgp_func_zone_code_id\tpdp_func_zone_code_id\tdeactivation_doc_id\tzone_type_id\tfunc_zone_status_id\tpdp_func_zone_code\n",
      "1\tMULTIPOLYGON (((76.9727 43.265,76.9727 43.265,76.9727 43.265,76.9728 43.265,76.9728 43.2649,76.973 4\t2726173\t0.609794153689786\t7808\t19\t9\tNone\t8\t1\t11010001\n",
      "2\tMULTIPOLYGON (((76.9742 43.2673,76.9742 43.2673,76.9742 43.2673,76.9742 43.2673,76.9742 43.2673,76.9\t2726174\t21.2148876259982\t7808\t19\t9\tNone\t8\t1\t11010001\n",
      "3\tMULTIPOLYGON (((76.9754 43.2668,76.9754 43.2668,76.9754 43.2669,76.9754 43.2669,76.9754 43.2669,76.9\t2726187\t1.8477472441591\t7808\t19\t9\tNone\t8\t1\t11010001\n",
      "*/\u001b[0m\u001b[32;1m\u001b[1;3mI have the schema and sample rows for the table I need to query. I can now construct the query to find the pdp_func_zone_code for ID 2726883.\n",
      "Action: sql_db_query\n",
      "Action Input: SELECT pdp_func_zone_code FROM pdp_functional_zones__default_workspacepdp_functional_zones WHERE ID = 2726883\u001b[0m\u001b[36;1m\u001b[1;3m[('11070004',), ('11070004',)]\u001b[0m\u001b[32;1m\u001b[1;3mThe pdp_func_zone_code for ID 2726883 is '11070004'.\n",
      "\n",
      "Final Answer: 11070004\u001b[0m\n",
      "\n",
      "\u001b[1m> Finished chain.\u001b[0m\n",
      "\n",
      "Observation: \u001b[33;1m\u001b[1;3m11070004\u001b[0m\n",
      "Thought:\u001b[32;1m\u001b[1;3mNow that we have the zone code, we can look up the zone name.\n",
      "Action: Zone name lookup\n",
      "Action Input: 11070004\u001b[0m\n",
      "Observation: \u001b[36;1m\u001b[1;3m**Территория прочих объектов социального и культурно-бытового обслуживания населения\u001b[0m\n",
      "Thought:\u001b[32;1m\u001b[1;3mI now know the final answer\n",
      "Final Answer: The name of the zone with ID 2726883 is **Территория прочих объектов социального и культурно-бытового обслуживания населения.\u001b[0m\n",
      "\n",
      "\u001b[1m> Finished chain.\u001b[0m\n"
     ]
    },
    {
     "data": {
      "text/plain": [
       "'The name of the zone with ID 2726883 is **Территория прочих объектов социального и культурно-бытового обслуживания населения.'"
      ]
     },
     "execution_count": 34,
     "metadata": {},
     "output_type": "execute_result"
    }
   ],
   "source": [
    "from langchain.agents import create_sql_agent\n",
    "from langchain.agents.agent_toolkits import SQLDatabaseToolkit\n",
    "from langchain.sql_database import SQLDatabase\n",
    "from langchain.chat_models import ChatOpenAI\n",
    "from langchain_core.prompts import PromptTemplate\n",
    "from langchain.tools import Tool\n",
    "from pprint import pprint\n",
    "from langchain.agents import initialize_agent, AgentType\n",
    "\n",
    "\n",
    "db = SQLDatabase.from_uri(\n",
    "    \"sqlite:///pdp_funczone.sqlite\",\n",
    ")\n",
    "llm = ChatOpenAI(temperature=0)\n",
    "\n",
    "# Create a prompt to load table names and and column names to database\n",
    "prompt = PromptTemplate.from_template(\n",
    "    \"You are a helpful assistant that provides SQL queries based on user requests. \"\n",
    "    \"Search for the table names and columns in the database: {table_context}. \"\n",
    "    \"When asked for a query, you will return a valid SQL query that answers the user's question.\"\n",
    ")\n",
    "prompt.invoke({\"table_context\": db.get_context()})\n",
    "\n",
    "\n",
    "\n",
    "def zone_name_lookup(query):\n",
    "    import pandas as pd\n",
    "    df = pd.read_excel(\"order_505_sub.xlsx\")\n",
    "    # Simplified filter logic\n",
    "    zone_name = df[df[\"code\"] == int(query)][\"name\"].values[0]\n",
    "    return zone_name\n",
    "\n",
    "lookup_tool = Tool(\n",
    "    name=\"Zone name lookup\",\n",
    "    func=zone_name_lookup,\n",
    "    description=\"Look up zone name by zone code after you god zone code from database\",\n",
    ")\n",
    "\n",
    "toolkit = SQLDatabaseToolkit(db=db, llm=llm)\n",
    "\n",
    "sql_agent_executor = create_sql_agent(llm=llm, toolkit=toolkit, verbose=True)\n",
    "\n",
    "\n",
    "\n",
    "sql_agent_tool = Tool(\n",
    "    name=\"SQL Agent\",\n",
    "    func=sql_agent_executor.run,\n",
    "    description=\"Use this tool to run SQL queries against the table pdp_functional_zones__default_workspacepdp_functional_zones of a database to find pdp_func_zone_code WHERE ID is  supplied by user \",\n",
    ")\n",
    "\n",
    "tools = [lookup_tool, sql_agent_tool]\n",
    "\n",
    "multi_agent = initialize_agent(\n",
    "    tools=tools,\n",
    "    llm=llm,\n",
    "    agent=AgentType.ZERO_SHOT_REACT_DESCRIPTION,\n",
    "    verbose=True\n",
    ")\n",
    "\n",
    "multi_agent.run(\"What is the name of zone by id of 2726883\")"
   ]
  },
  {
   "cell_type": "code",
   "execution_count": null,
   "id": "48298bdc",
   "metadata": {},
   "outputs": [],
   "source": [
    "\n"
   ]
  },
  {
   "cell_type": "code",
   "execution_count": null,
   "id": "27fa3fe1",
   "metadata": {},
   "outputs": [],
   "source": []
  },
  {
   "cell_type": "code",
   "execution_count": null,
   "id": "209b0102",
   "metadata": {},
   "outputs": [],
   "source": []
  }
 ],
 "metadata": {
  "kernelspec": {
   "display_name": "lang",
   "language": "python",
   "name": "python3"
  },
  "language_info": {
   "codemirror_mode": {
    "name": "ipython",
    "version": 3
   },
   "file_extension": ".py",
   "mimetype": "text/x-python",
   "name": "python",
   "nbconvert_exporter": "python",
   "pygments_lexer": "ipython3",
   "version": "3.13.2"
  }
 },
 "nbformat": 4,
 "nbformat_minor": 5
}
